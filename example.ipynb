{
 "cells": [
  {
   "cell_type": "markdown",
   "metadata": {},
   "source": [
    "# Reproducibility Study of “Studying How to Efficiently and Effectively Guide Models with Explanations”\n",
    "\n",
    "Description: This file is part of a project aiming to reproduce the study titled \"Studying How to Efficiently and \n",
    "Effectively Guide Models with Explanations.\" The project focuses on verifying the results and methodologies \n",
    "proposed in the original study, and potentially extending or refining the study's findings.\n",
    "\n",
    "Based on the code of orginal paper: https://github.com/sukrutrao/Model-Guidance"
   ]
  },
  {
   "cell_type": "markdown",
   "metadata": {},
   "source": [
    "### 1. Load the data"
   ]
  },
  {
   "cell_type": "markdown",
   "metadata": {},
   "source": [
    "#### For VOC2007"
   ]
  },
  {
   "cell_type": "code",
   "execution_count": 5,
   "metadata": {},
   "outputs": [
    {
     "name": "stderr",
     "output_type": "stream",
     "text": [
      "100%|██████████| 2501/2501 [00:08<00:00, 297.62it/s]\n"
     ]
    }
   ],
   "source": [
    "import argparse\n",
    "\n",
    "from datasets.VOC2007.preprocess import preprocess_voc2007\n",
    "\n",
    "data_root = \"datasets/VOC2007/\"\n",
    "split = \"train\"\n",
    "save_path = \"datasets/VOC2007/processed/\"\n",
    "\n",
    "args = {\n",
    "    \"data_root\": data_root,\n",
    "    \"split\": split,\n",
    "    \"save_path\": save_path\n",
    "}\n",
    "\n",
    "args = argparse.Namespace(**args)\n",
    "\n",
    "preprocess_voc2007(args)"
   ]
  },
  {
   "cell_type": "code",
   "execution_count": null,
   "metadata": {},
   "outputs": [],
   "source": [
    "import argparse\n",
    "\n",
    "from datasets.VOC2007.preprocess import preprocess_voc2007\n",
    "\n",
    "data_root = \"datasets/VOC2007/\"\n",
    "split = \"val\"\n",
    "save_path = \"datasets/VOC2007/processed/\"\n",
    "\n",
    "args = {\n",
    "    \"data_root\": data_root,\n",
    "    \"split\": split,\n",
    "    \"save_path\": save_path\n",
    "}\n",
    "\n",
    "args = argparse.Namespace(**args)\n",
    "\n",
    "preprocess_voc2007(args)"
   ]
  },
  {
   "cell_type": "code",
   "execution_count": null,
   "metadata": {},
   "outputs": [],
   "source": [
    "import argparse\n",
    "\n",
    "from datasets.VOC2007.preprocess import preprocess_voc2007\n",
    "\n",
    "data_root = \"datasets/VOC2007/\"\n",
    "split = \"test\"\n",
    "save_path = \"datasets/VOC2007/processed/\"\n",
    "\n",
    "args = {\n",
    "    \"data_root\": data_root,\n",
    "    \"split\": split,\n",
    "    \"save_path\": save_path\n",
    "}\n",
    "\n",
    "args = argparse.Namespace(**args)\n",
    "\n",
    "preprocess_voc2007(args)"
   ]
  },
  {
   "cell_type": "markdown",
   "metadata": {},
   "source": [
    "### For waterbirds"
   ]
  },
  {
   "cell_type": "code",
   "execution_count": 6,
   "metadata": {},
   "outputs": [
    {
     "name": "stdout",
     "output_type": "stream",
     "text": [
      "torch.Size([4795, 2])\n"
     ]
    },
    {
     "name": "stderr",
     "output_type": "stream",
     "text": [
      "100%|██████████| 4795/4795 [00:18<00:00, 255.97it/s]\n"
     ]
    },
    {
     "name": "stdout",
     "output_type": "stream",
     "text": [
      "Total num of images in set: 4795\n"
     ]
    }
   ],
   "source": [
    "import argparse  \n",
    "\n",
    "from datasets.WATERBIRDS.preprocess import preprocess_waterbirds\n",
    "\n",
    "bounding_boxes_path = \"./datasets/WATERBIRDS/bounding_boxes.txt\"\n",
    "waterbirds_dataset_root = \"./datasets/WATERBIRDS/waterbird_1.0_forest2water2/\"\n",
    "split = \"train\"\n",
    "save_path = \"./datasets/WATERBIRDS/processed/\"\n",
    "\n",
    "args = {\n",
    "    \"bounding_boxes_path\": bounding_boxes_path,\n",
    "    \"waterbirds_dataset_root\": waterbirds_dataset_root,\n",
    "    \"split\": split,\n",
    "    \"save_path\": save_path\n",
    "}\n",
    "\n",
    "args = argparse.Namespace(**args)\n",
    "\n",
    "preprocess_waterbirds(args)"
   ]
  },
  {
   "cell_type": "code",
   "execution_count": null,
   "metadata": {},
   "outputs": [],
   "source": [
    "import argparse\n",
    "\n",
    "from datasets.WATERBIRDS.preprocess import preprocess_waterbirds\n",
    "\n",
    "bounding_boxes_path = \"./datasets/WATERBIRDS/bounding_boxes.txt\"\n",
    "waterbirds_dataset_root = \"./datasets/WATERBIRDS/waterbird_1.0_forest2water2/\"\n",
    "split = \"val\"\n",
    "save_path = \"./datasets/WATERBIRDS/processed/\"\n",
    "\n",
    "args = {\n",
    "    \"bounding_boxes_path\": bounding_boxes_path,\n",
    "    \"waterbirds_dataset_root\": waterbirds_dataset_root,\n",
    "    \"split\": split,\n",
    "    \"save_path\": save_path\n",
    "}\n",
    "\n",
    "args = argparse.Namespace(**args)\n",
    "\n",
    "preprocess_waterbirds(args)"
   ]
  },
  {
   "cell_type": "code",
   "execution_count": null,
   "metadata": {},
   "outputs": [],
   "source": [
    "import argparse\n",
    "\n",
    "from datasets.WATERBIRDS.preprocess import preprocess_waterbirds\n",
    "\n",
    "bounding_boxes_path = \"./datasets/WATERBIRDS/bounding_boxes.txt\"\n",
    "waterbirds_dataset_root = \"./datasets/WATERBIRDS/waterbird_1.0_forest2water2/\"\n",
    "split = \"test\"\n",
    "save_path = \"./datasets/WATERBIRDS/processed/\"\n",
    "\n",
    "args = {\n",
    "    \"bounding_boxes_path\": bounding_boxes_path,\n",
    "    \"waterbirds_dataset_root\": waterbirds_dataset_root,\n",
    "    \"split\": split,\n",
    "    \"save_path\": save_path\n",
    "}\n",
    "\n",
    "args = argparse.Namespace(**args)\n",
    "\n",
    "preprocess_waterbirds(args)"
   ]
  },
  {
   "cell_type": "markdown",
   "metadata": {},
   "source": [
    "### 2. Train the baseline model\n",
    "\n",
    "Train the baseline model using the training data for 2 epochs and a batch size of 16"
   ]
  },
  {
   "cell_type": "code",
   "execution_count": null,
   "metadata": {},
   "outputs": [],
   "source": [
    "import argparse\n",
    "\n",
    "from train import main\n",
    "\n",
    "model_backbone = \"vanilla\"\n",
    "total_epochs = 2\n",
    "learning_rate = 1e-4\n",
    "log_path = \"./base_logs_demo\"\n",
    "save_path = \"./BASE_DEMO\"\n",
    "train_batch_size = 16\n",
    "dataset = \"VOC2007\"\n",
    "\n",
    "# Default values\n",
    "seed = 0\n",
    "model_path = None\n",
    "data_path = \"datasets/\"\n",
    "localization_loss_lambda = 1.0\n",
    "layer = \"Input\"\n",
    "localization_loss_fn = None\n",
    "attribution_method = None\n",
    "optimize_explanations = False\n",
    "min_fscore = -1\n",
    "pareto = False\n",
    "annotated_fraction = 1.0\n",
    "evaluation_frequency = 1\n",
    "eval_batch_size = 4\n",
    "box_dilation_percentage = 0\n",
    "pareto_metric = \"EPG_IOU\"\n",
    "\n",
    "args = {\n",
    "    \"model_backbone\": model_backbone,\n",
    "    \"total_epochs\": total_epochs,\n",
    "    \"learning_rate\": learning_rate,\n",
    "    \"log_path\": log_path,\n",
    "    \"save_path\": save_path,\n",
    "    \"seed\": seed,\n",
    "    \"train_batch_size\": train_batch_size,\n",
    "    \"dataset\": dataset,\n",
    "    \"model_path\": model_path,\n",
    "    \"data_path\": data_path,\n",
    "    \"localization_loss_lambda\": localization_loss_lambda,\n",
    "    \"layer\": layer,\n",
    "    \"localization_loss_fn\": localization_loss_fn,\n",
    "    \"attribution_method\": attribution_method,\n",
    "    \"optimize_explanations\": optimize_explanations,\n",
    "    \"min_fscore\": min_fscore,\n",
    "    \"pareto\": pareto,\n",
    "    \"annotated_fraction\": annotated_fraction,\n",
    "    \"evaluation_frequency\": evaluation_frequency,\n",
    "    \"eval_batch_size\": eval_batch_size,\n",
    "    \"box_dilation_percentage\": box_dilation_percentage,\n",
    "    \"pareto_metric\": pareto_metric\n",
    "}\n",
    "\n",
    "args = argparse.Namespace(**args)\n",
    "\n",
    "main(args)"
   ]
  },
  {
   "cell_type": "markdown",
   "metadata": {},
   "source": [
    "### 3. Train the fine-tuned model on the base model\n",
    "\n",
    "For the fine-tuned model, due to computational resource limitation, we only train on 2 epochs and a batch size of 16."
   ]
  },
  {
   "cell_type": "code",
   "execution_count": null,
   "metadata": {},
   "outputs": [],
   "source": [
    "import argparse\n",
    "\n",
    "from train import main\n",
    "\n",
    "model_backbone = \"vanilla\"\n",
    "total_epochs = 2\n",
    "learning_rate = 1e-4\n",
    "log_path = \"./finetune_logs_demo\"\n",
    "save_path = \"./FT_DEMO\"\n",
    "train_batch_size = 16\n",
    "dataset = \"VOC2007\"\n",
    "\n",
    "model_path = \"./BASE_DEMO/VOC2007/vanilla_standard_attrNone_loclossNone_origNone_resnet50_lr0.0001_sll1.0_layerInput/model_checkpoint_f1_best.pt\"\n",
    "\n",
    "# Default values\n",
    "seed = 0\n",
    "data_path = \"datasets/\"\n",
    "localization_loss_lambda = 1e-3\n",
    "layer = \"Final\"\n",
    "localization_loss_fn = \"Energy\"\n",
    "attribution_method = \"IxG\"\n",
    "optimize_explanations = True\n",
    "min_fscore = -1\n",
    "pareto = True\n",
    "annotated_fraction = 1.0\n",
    "evaluation_frequency = 1\n",
    "eval_batch_size = 4\n",
    "box_dilation_percentage = 0\n",
    "pareto_metric = \"EPG_IOU\"\n",
    "\n",
    "args = {\n",
    "    \"model_backbone\": model_backbone,\n",
    "    \"total_epochs\": total_epochs,\n",
    "    \"learning_rate\": learning_rate,\n",
    "    \"log_path\": log_path,\n",
    "    \"save_path\": save_path,\n",
    "    \"seed\": seed,\n",
    "    \"train_batch_size\": train_batch_size,\n",
    "    \"dataset\": dataset,\n",
    "    \"model_path\": model_path,\n",
    "    \"data_path\": data_path,\n",
    "    \"localization_loss_lambda\": localization_loss_lambda,\n",
    "    \"layer\": layer,\n",
    "    \"localization_loss_fn\": localization_loss_fn,\n",
    "    \"attribution_method\": attribution_method,\n",
    "    \"optimize_explanations\": optimize_explanations,\n",
    "    \"min_fscore\": min_fscore,\n",
    "    \"pareto\": pareto,\n",
    "    \"annotated_fraction\": annotated_fraction,\n",
    "    \"evaluation_frequency\": evaluation_frequency,\n",
    "    \"eval_batch_size\": eval_batch_size,\n",
    "    \"box_dilation_percentage\": box_dilation_percentage,\n",
    "    \"pareto_metric\": pareto_metric\n",
    "}\n",
    "\n",
    "args = argparse.Namespace(**args)\n",
    "\n",
    "main(args)"
   ]
  },
  {
   "cell_type": "markdown",
   "metadata": {},
   "source": [
    "### 4. Evaluate the fine-tuned model on the test set"
   ]
  },
  {
   "cell_type": "code",
   "execution_count": null,
   "metadata": {},
   "outputs": [],
   "source": [
    "from eval import evaluation_function\n",
    "\n",
    "model_path = './FT_DEMO/VOC2007/vanilla_finetunedobjlocpareto_attrIxG_loclossEnergy_origmodel_checkpoint_f1_best.pt_resnet50_lr0.0001_sll0.001_layerFinal/model_checkpoint_f1_best.pt'\n",
    "\n",
    "split = 'test'\n",
    "\n",
    "mode = 'bbs'\n",
    "\n",
    "dataset = 'VOC2007'\n",
    "\n",
    "# Create kwargs for evaluation function\n",
    "args = {'model_path': model_path,\n",
    "        'split': split,\n",
    "        'mode': mode,\n",
    "        'dataset': dataset}\n",
    "\n",
    "# Evaluate\n",
    "evaluation_function(**args)"
   ]
  },
  {
   "cell_type": "markdown",
   "metadata": {},
   "source": [
    "### 5. Visualize the different attribution methods"
   ]
  },
  {
   "cell_type": "code",
   "execution_count": null,
   "metadata": {},
   "outputs": [],
   "source": [
    "import torch\n",
    "torch.cuda.empty_cache()\n",
    "\n",
    "from visualize import visualize_fig9\n",
    "\n",
    "visualize_fig9(\n",
    "    [\n",
    "        \"BASE/VOC2008/bcos_standard_attrNone_loclossNone_origNone_resnet50_lr0.0001_sll1.0_layerInput/model_checkpoint_f1_best.pt\",\n",
    "        \"FT/VOC2007/bcos_finetunedobjlocpareto_attrBCos_loclossEnergy_origmodel_checkpoint_f1_best.pt_resnet50_lr0.0001_sll0.005_layerInput/model_checkpoint_f1_best.pt\",\n",
    "        \"FT/VOC2007/bcos_finetunedobjlocpareto_attrBCos_loclossL1_origmodel_checkpoint_f1_best.pt_resnet50_lr0.0001_sll0.01_layerInput/model_checkpoint_f1_best.pt\",\n",
    "        \"FT/VOC2007/bcos_finetunedobjlocpareto_attrBCos_loclossPPCE_origmodel_checkpoint_f1_best.pt_resnet50_lr0.001_sll0.001_layerInput/model_checkpoint_f1_best.pt\",\n",
    "        \"FT/VOC2007/bcos_finetunedobjlocpareto_attrBCos_loclossRRR_origmodel_checkpoint_f1_best.pt_resnet50_lr0.0001_sll5e-05_layerInput/model_checkpoint_f1_best.pt\",\n",
    "    ],\n",
    "    last=False\n",
    ")"
   ]
  },
  {
   "cell_type": "markdown",
   "metadata": {},
   "source": [
    "### 6. Visualize the model with dilated bounding boxes"
   ]
  },
  {
   "cell_type": "code",
   "execution_count": null,
   "metadata": {},
   "outputs": [],
   "source": [
    "import torch\n",
    "torch.cuda.empty_cache()\n",
    "\n",
    "from visualize import visualize_fig11\n",
    "\n",
    "visualize_fig11(\n",
    "    base_path=\"BASE/VOC2008/bcos_standard_attrNone_loclossNone_origNone_resnet50_lr0.0001_sll1.0_layerInput/model_checkpoint_f1_best.pt\",\n",
    "    energy_paths=[\n",
    "        \"FT/DIL/bcos_finetunedobjlocpareto_attrBCos_loclossEnergy_origmodel_checkpoint_f1_best.pt_resnet50_lr0.0001_sll0.005_layerInput/model_checkpoint_f1_best.pt\",\n",
    "        \"FT/DIL/bcos_FT_dilated_attrBCos_loclossEnergy_origmodel_checkpoint_f1_best.pt_resnet50_lr0.0001_sll0.005_layerInput_dil0.5/model_checkpoint_f1_best.pt\",\n",
    "    ],\n",
    "    L1_paths=[\n",
    "        \"FT/DIL/bcos_finetunedobjlocpareto_attrBCos_loclossL1_origmodel_checkpoint_f1_best.pt_resnet50_lr0.0001_sll0.005_layerInput/model_checkpoint_f1_best.pt\",\n",
    "        \"FT/DIL/bcos_FT_dilated_attrBCos_loclossL1_origmodel_checkpoint_f1_best.pt_resnet50_lr0.0001_sll0.005_layerInput_dil0.5/model_checkpoint_f1_best.pt\",\n",
    "    ],\n",
    "    last=False\n",
    "    )"
   ]
  },
  {
   "cell_type": "markdown",
   "metadata": {},
   "source": [
    "### 7. Show that the Pareto Front works"
   ]
  },
  {
   "cell_type": "code",
   "execution_count": null,
   "metadata": {},
   "outputs": [],
   "source": [
    "from pareto_FT import pareto_demo\n",
    "\n",
    "bin_width=0.005,\n",
    "layer=\"Final\"\n",
    "data_split=\"test\"\n",
    "attribution_method=\"BCos\"\n",
    "eval_batch_size=4\n",
    "model_dir=\"./FT/VOC2007/bcos/fin/l1/bcos_finetunedobjlocpareto_attrBCos_loclossL1_origmodel_checkpoint_f1_best.pt_resnet50_lr0.0001_sll0.005_layerFinal/pareto_front\"\n",
    "output_dir=\"./p_curves_demo/VOC2007/bcos/Final/L1\"\n",
    "\n",
    "pareto_demo(\n",
    "    bin_width=bin_width,\n",
    "    layer=layer,\n",
    "    data_split=data_split,\n",
    "    attribution_method=attribution_method,\n",
    "    eval_batch_size=eval_batch_size,\n",
    "    model_dir=model_dir,\n",
    "    output_dir=output_dir\n",
    ")"
   ]
  },
  {
   "cell_type": "code",
   "execution_count": 14,
   "metadata": {},
   "outputs": [
    {
     "name": "stdout",
     "output_type": "stream",
     "text": [
      "[(79.46498990058899, 64.57726532228821), (79.53389883041382, 67.48056483271222), (79.7851026058197, 57.8344636322933), (79.84963655471802, 53.66749359657786), (79.86577153205872, 61.88609856665165), (80.18531799316406, 61.09788756440639)]\n"
     ]
    },
    {
     "data": {
      "image/png": "[encoded data removed]",
      "text/plain": [
       "<Figure size 1000x400 with 1 Axes>"
      ]
     },
     "metadata": {},
     "output_type": "display_data"
    }
   ],
   "source": [
    "from utils import *\n",
    "from visualize import *\n",
    "\n",
    "root_folder = './p_curves_demo/VOC2007/bcos/Final/L1/pareto'\n",
    "data_f1_epg_pareto = utils.load_data_from_folders_with_npz_files(root_folder, metrics=('f_score', 'bb_score'))\n",
    "\n",
    "root_folder = './p_curves_demo/VOC2007/bcos/Final/L1/not_pareto'\n",
    "data_f1_epg_not_pareto = utils.load_data_from_folders_with_npz_files(root_folder, metrics=('f_score', 'bb_score'))\n",
    "\n",
    "print(data_f1_epg_not_pareto['bcos']['final']['l1'])\n",
    "\n",
    "plot_pareto_curve(\n",
    "    baseline_data=data_f1_epg_pareto['vanilla']['input']['baseline'],\n",
    "    l1_data=data_f1_epg_pareto['bcos']['final']['l1'],\n",
    "    x_label='F1 Score (%)',\n",
    "    y_label='EPG Score (%)',\n",
    "    title='',\n",
    "    figsize=(10, 4),\n",
    "    set_xlim=(79, 81),\n",
    "    set_ylim=(50, 73),\n",
    "    hide_x_ticks=False,\n",
    "    hide_y_ticks=False,\n",
    "    fontsize=20,\n",
    "    attribution_method=\"IxG\",\n",
    "    plot_demo_data=True,\n",
    "    demo_data=data_f1_epg_not_pareto['bcos']['final']['l1'])"
   ]
  },
  {
   "cell_type": "markdown",
   "metadata": {},
   "source": [
    "### 8. Show the evaluation results of the fine-tuned model (Pareto front)"
   ]
  },
  {
   "cell_type": "code",
   "execution_count": null,
   "metadata": {},
   "outputs": [],
   "source": [
    "from utils import *\n",
    "from visualize import *\n",
    "\n",
    "root_folder = './p_curves/VOC2007'\n",
    "data_f1_epg = utils.load_data_from_folders_with_npz_files(root_folder, metrics=('f_score', 'bb_score'))\n",
    "\n",
    "x_lim_range = (65, 85)\n",
    "y_lim_range = (31, 90)\n",
    "step_size_xticks = 5\n",
    "step_size_yticks = 10\n",
    "\n",
    "plot_pareto_curve(\n",
    "    baseline_data=data_f1_epg['vanilla']['input']['baseline'],\n",
    "    energy_data=data_f1_epg['vanilla']['input']['energy'],\n",
    "    l1_data=data_f1_epg['vanilla']['input']['l1'],\n",
    "    ppce_data=data_f1_epg['vanilla']['input']['ppce'],\n",
    "    rrr_data=data_f1_epg['vanilla']['input']['rrr'],\n",
    "    x_label='F1 Score (%)',\n",
    "    y_label='EPG Score (%)',\n",
    "    title='',\n",
    "    figsize=(10, 4),\n",
    "    set_xlim=x_lim_range,\n",
    "    set_ylim=y_lim_range,\n",
    "    step_size_xticks=step_size_xticks,\n",
    "    step_size_yticks=step_size_yticks,\n",
    "    hide_x_ticks=True,\n",
    "    hide_y_ticks=False,\n",
    "    fontsize=20,\n",
    "    attribution_method=\"IxG\")\n",
    "\n",
    "plot_pareto_curve(\n",
    "    baseline_data=data_f1_epg['bcos']['input']['baseline'],\n",
    "    energy_data=data_f1_epg['bcos']['input']['energy'],\n",
    "    l1_data=data_f1_epg['bcos']['input']['l1'],\n",
    "    ppce_data=data_f1_epg['bcos']['input']['ppce'],\n",
    "    rrr_data=data_f1_epg['bcos']['input']['rrr'],\n",
    "    x_label='F1 Score (%)',\n",
    "    y_label='EPG Score (%)',\n",
    "    title='',\n",
    "    figsize=(10, 4),\n",
    "    set_xlim=x_lim_range,\n",
    "    set_ylim=y_lim_range,\n",
    "    step_size_xticks=step_size_xticks,\n",
    "    step_size_yticks=step_size_yticks,\n",
    "    hide_x_ticks=True,\n",
    "    hide_y_ticks=True,\n",
    "    fontsize=20,\n",
    "    attribution_method=\"B-cos\")\n",
    "\n",
    "plot_pareto_curve(\n",
    "    baseline_data=data_f1_epg['vanilla']['final']['baseline'],\n",
    "    energy_data=data_f1_epg['vanilla']['final']['energy'],\n",
    "    l1_data=data_f1_epg['vanilla']['final']['l1'],\n",
    "    ppce_data=data_f1_epg['vanilla']['final']['ppce'],\n",
    "    rrr_data=data_f1_epg['vanilla']['final']['rrr'],\n",
    "    x_label='F1 Score (%)',\n",
    "    y_label='EPG Score (%)',\n",
    "    title='',\n",
    "    figsize=(10, 4),\n",
    "    set_xlim=x_lim_range,\n",
    "    set_ylim=y_lim_range,\n",
    "    step_size_xticks=step_size_xticks,\n",
    "    step_size_yticks=step_size_yticks,\n",
    "    hide_x_ticks=False,\n",
    "    hide_y_ticks=False,\n",
    "    fontsize=20,\n",
    "    attribution_method=\"IxG\")\n",
    "\n",
    "plot_pareto_curve(\n",
    "    baseline_data=data_f1_epg['bcos']['final']['baseline'],\n",
    "    energy_data=data_f1_epg['bcos']['final']['energy'],\n",
    "    l1_data=data_f1_epg['bcos']['final']['l1'],\n",
    "    ppce_data=data_f1_epg['bcos']['final']['ppce'],\n",
    "    rrr_data=data_f1_epg['bcos']['final']['rrr'],\n",
    "    x_label='F1 Score (%)',\n",
    "    y_label='EPG Score (%)',\n",
    "    title='',\n",
    "    figsize=(10, 4),\n",
    "    set_xlim=x_lim_range,\n",
    "    set_ylim=y_lim_range,\n",
    "    step_size_xticks=step_size_xticks,\n",
    "    step_size_yticks=(step_size_yticks),\n",
    "    hide_x_ticks=False,\n",
    "    hide_y_ticks=True,\n",
    "    fontsize=20,\n",
    "    attribution_method=\"B-cos\")"
   ]
  }
 ],
 "metadata": {
  "kernelspec": {
   "display_name": "FACTifAI",
   "language": "python",
   "name": "python3"
  },
  "language_info": {
   "codemirror_mode": {
    "name": "ipython",
    "version": 3
   },
   "file_extension": ".py",
   "mimetype": "text/x-python",
   "name": "python",
   "nbconvert_exporter": "python",
   "pygments_lexer": "ipython3",
   "version": "3.10.5"
  }
 },
 "nbformat": 4,
 "nbformat_minor": 2
}
